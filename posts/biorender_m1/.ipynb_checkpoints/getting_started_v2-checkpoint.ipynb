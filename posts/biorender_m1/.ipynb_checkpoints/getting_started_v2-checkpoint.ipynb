{
 "cells": [
  {
   "cell_type": "code",
   "execution_count": 2,
   "id": "b2174ebf",
   "metadata": {},
   "outputs": [],
   "source": [
    "from vedo import embedWindow  # for more explanations about these two lines checks the notebooks workflow example\n",
    "embedWindow(None)"
   ]
  },
  {
   "cell_type": "code",
   "execution_count": 3,
   "id": "3b2ceadd",
   "metadata": {},
   "outputs": [
    {
     "data": {
      "text/html": [
       "<pre style=\"white-space:pre;overflow-x:auto;line-height:normal;font-family:Menlo,'DejaVu Sans Mono',consolas,'Courier New',monospace\"><span style=\"color: #ff00d7; text-decoration-color: #ff00d7\">Bgatlas_api: allen_mouse_25um not found locally. Downloading...</span>\n",
       "</pre>\n"
      ],
      "text/plain": [
       "\u001b[38;5;200mBgatlas_api: allen_mouse_25um not found locally. Downloading\u001b[0m\u001b[38;5;200m...\u001b[0m\n"
      ]
     },
     "metadata": {},
     "output_type": "display_data"
    },
    {
     "data": {
      "application/vnd.jupyter.widget-view+json": {
       "model_id": "38275bb49a644a83926a3b4cddf6a4d3",
       "version_major": 2,
       "version_minor": 0
      },
      "text/plain": [
       "Output()"
      ]
     },
     "metadata": {},
     "output_type": "display_data"
    },
    {
     "data": {
      "text/html": [
       "<pre style=\"white-space:pre;overflow-x:auto;line-height:normal;font-family:Menlo,'DejaVu Sans Mono',consolas,'Courier New',monospace\"></pre>\n"
      ],
      "text/plain": []
     },
     "metadata": {},
     "output_type": "display_data"
    },
    {
     "data": {
      "text/html": [
       "<pre style=\"white-space:pre;overflow-x:auto;line-height:normal;font-family:Menlo,'DejaVu Sans Mono',consolas,'Courier New',monospace\">\n",
       "</pre>\n"
      ],
      "text/plain": [
       "\n"
      ]
     },
     "metadata": {},
     "output_type": "display_data"
    },
    {
     "data": {
      "text/html": [
       "<pre style=\"white-space:pre;overflow-x:auto;line-height:normal;font-family:Menlo,'DejaVu Sans Mono',consolas,'Courier New',monospace\">  acronym   id                           name\n",
       "<span style=\"color: #008080; text-decoration-color: #008080; font-weight: bold\">0</span>    root  <span style=\"color: #008080; text-decoration-color: #008080; font-weight: bold\">997</span>                           root\n",
       "<span style=\"color: #008080; text-decoration-color: #008080; font-weight: bold\">1</span>    grey    <span style=\"color: #008080; text-decoration-color: #008080; font-weight: bold\">8</span>  Basic cell groups and regions\n",
       "<span style=\"color: #008080; text-decoration-color: #008080; font-weight: bold\">2</span>      CH  <span style=\"color: #008080; text-decoration-color: #008080; font-weight: bold\">567</span>                       Cerebrum\n",
       "<span style=\"color: #008080; text-decoration-color: #008080; font-weight: bold\">3</span>     CTX  <span style=\"color: #008080; text-decoration-color: #008080; font-weight: bold\">688</span>                Cerebral cortex\n",
       "<span style=\"color: #008080; text-decoration-color: #008080; font-weight: bold\">4</span>   CTXpl  <span style=\"color: #008080; text-decoration-color: #008080; font-weight: bold\">695</span>                 Cortical plate\n",
       "</pre>\n"
      ],
      "text/plain": [
       "  acronym   id                           name\n",
       "\u001b[1;36m0\u001b[0m    root  \u001b[1;36m997\u001b[0m                           root\n",
       "\u001b[1;36m1\u001b[0m    grey    \u001b[1;36m8\u001b[0m  Basic cell groups and regions\n",
       "\u001b[1;36m2\u001b[0m      CH  \u001b[1;36m567\u001b[0m                       Cerebrum\n",
       "\u001b[1;36m3\u001b[0m     CTX  \u001b[1;36m688\u001b[0m                Cerebral cortex\n",
       "\u001b[1;36m4\u001b[0m   CTXpl  \u001b[1;36m695\u001b[0m                 Cortical plate\n"
      ]
     },
     "metadata": {},
     "output_type": "display_data"
    }
   ],
   "source": [
    "# Import Scene\n",
    "from brainrender import Scene  # Scene handles the creation of your rendering!\n",
    "\n",
    "scene = Scene(title='My first rendering')  # create an instance of scene\n",
    "'''\n",
    "If you want to use any of the atlases supported by BrainGlobe's AtlasAPI,\n",
    "specify the atlas name when creating an instance of `Scene`!\n",
    "'''\n",
    "\n",
    "# Adding brain regions\n",
    "scene.add_brain_region('MOs', 'TH', alpha=.5)\n",
    "\n",
    "'''\n",
    "You can add any number of brain regions at once, just specify the regions' acronym or ID numbers.\n",
    "If you are not sure what the acronym/ID is for your region, have a look try:\n",
    "\n",
    "`scene.atlas.lookup_df`\n",
    "\n",
    "or:\n",
    "`print(scene.atlas.hierarchy)`\n",
    "\n",
    "which whill show the hieararchical organization of the atlas' regions:\n",
    "\n",
    "root (997)\n",
    "├── VS (73)\n",
    "│   ├── AQ (140)\n",
    "│   ├── V3 (129)\n",
    "│   ├── V4 (145)\n",
    "│   │   └── V4r (153)\n",
    "│   ├── VL (81)\n",
    "│   │   ├── SEZ (98)\n",
    "│   │   └── chpl (108)\n",
    "│   └── c (164)\n",
    "├── fiber tracts (1009)\n",
    "│   ├── cbf (960)\n",
    "│   │   ├── arb (728)\n",
    "...\n",
    "\n",
    "'''\n",
    "\n",
    "scene.atlas.lookup_df.head()"
   ]
  },
  {
   "cell_type": "code",
   "execution_count": 6,
   "id": "488b4c29",
   "metadata": {},
   "outputs": [
    {
     "ename": "AttributeError",
     "evalue": "module 'numpy' has no attribute 'float'.\n`np.float` was a deprecated alias for the builtin `float`. To avoid this error in existing code, use `float` by itself. Doing this will not modify any behavior and is safe. If you specifically wanted the numpy scalar type, use `np.float64` here.\nThe aliases was originally deprecated in NumPy 1.20; for more details and guidance see the original release note at:\n    https://numpy.org/devdocs/release/1.20.0-notes.html#deprecations",
     "output_type": "error",
     "traceback": [
      "\u001b[0;31m---------------------------------------------------------------------------\u001b[0m",
      "\u001b[0;31mAttributeError\u001b[0m                            Traceback (most recent call last)",
      "Cell \u001b[0;32mIn[6], line 1\u001b[0m\n\u001b[0;32m----> 1\u001b[0m \u001b[43mscene\u001b[49m\u001b[38;5;241;43m.\u001b[39;49m\u001b[43mrender\u001b[49m\u001b[43m(\u001b[49m\u001b[43m)\u001b[49m\n",
      "File \u001b[0;32m/opt/homebrew/Caskroom/miniconda/base/envs/brainr/lib/python3.10/site-packages/brainrender/render.py:252\u001b[0m, in \u001b[0;36mRender.render\u001b[0;34m(self, interactive, camera, zoom, update_camera, **kwargs)\u001b[0m\n\u001b[1;32m    249\u001b[0m     \u001b[38;5;28;01mif\u001b[39;00m interactive \u001b[38;5;129;01mis\u001b[39;00m \u001b[38;5;28;01mNone\u001b[39;00m:\n\u001b[1;32m    250\u001b[0m         interactive \u001b[38;5;241m=\u001b[39m settings\u001b[38;5;241m.\u001b[39mINTERACTIVE\n\u001b[0;32m--> 252\u001b[0m     \u001b[38;5;28;43mself\u001b[39;49m\u001b[38;5;241;43m.\u001b[39;49m\u001b[43mplotter\u001b[49m\u001b[38;5;241;43m.\u001b[39;49m\u001b[43mshow\u001b[49m\u001b[43m(\u001b[49m\n\u001b[1;32m    253\u001b[0m \u001b[43m        \u001b[49m\u001b[43minteractive\u001b[49m\u001b[38;5;241;43m=\u001b[39;49m\u001b[43minteractive\u001b[49m\u001b[43m,\u001b[49m\n\u001b[1;32m    254\u001b[0m \u001b[43m        \u001b[49m\u001b[43mzoom\u001b[49m\u001b[38;5;241;43m=\u001b[39;49m\u001b[43mzoom\u001b[49m\u001b[43m,\u001b[49m\n\u001b[1;32m    255\u001b[0m \u001b[43m        \u001b[49m\u001b[43mbg\u001b[49m\u001b[38;5;241;43m=\u001b[39;49m\u001b[43msettings\u001b[49m\u001b[38;5;241;43m.\u001b[39;49m\u001b[43mBACKGROUND_COLOR\u001b[49m\u001b[43m,\u001b[49m\n\u001b[1;32m    256\u001b[0m \u001b[43m        \u001b[49m\u001b[43mcamera\u001b[49m\u001b[38;5;241;43m=\u001b[39;49m\u001b[43mcamera\u001b[49m\u001b[38;5;241;43m.\u001b[39;49m\u001b[43mcopy\u001b[49m\u001b[43m(\u001b[49m\u001b[43m)\u001b[49m\u001b[43m \u001b[49m\u001b[38;5;28;43;01mif\u001b[39;49;00m\u001b[43m \u001b[49m\u001b[43mupdate_camera\u001b[49m\u001b[43m \u001b[49m\u001b[38;5;28;43;01melse\u001b[39;49;00m\u001b[43m \u001b[49m\u001b[38;5;28;43;01mNone\u001b[39;49;00m\u001b[43m,\u001b[49m\n\u001b[1;32m    257\u001b[0m \u001b[43m        \u001b[49m\u001b[43minteractorStyle\u001b[49m\u001b[38;5;241;43m=\u001b[39;49m\u001b[38;5;241;43m0\u001b[39;49m\u001b[43m,\u001b[49m\n\u001b[1;32m    258\u001b[0m \u001b[43m        \u001b[49m\u001b[43mrate\u001b[49m\u001b[38;5;241;43m=\u001b[39;49m\u001b[38;5;241;43m40\u001b[39;49m\u001b[43m,\u001b[49m\n\u001b[1;32m    259\u001b[0m \u001b[43m    \u001b[49m\u001b[43m)\u001b[49m\n\u001b[1;32m    260\u001b[0m \u001b[38;5;28;01melif\u001b[39;00m \u001b[38;5;28mself\u001b[39m\u001b[38;5;241m.\u001b[39mbackend \u001b[38;5;241m==\u001b[39m \u001b[38;5;124m\"\u001b[39m\u001b[38;5;124mk3d\u001b[39m\u001b[38;5;124m\"\u001b[39m:  \u001b[38;5;66;03m# pragma: no cover\u001b[39;00m\n\u001b[1;32m    261\u001b[0m     \u001b[38;5;66;03m# Remove silhouettes\u001b[39;00m\n\u001b[1;32m    262\u001b[0m     \u001b[38;5;28mself\u001b[39m\u001b[38;5;241m.\u001b[39mremove(\u001b[38;5;241m*\u001b[39m\u001b[38;5;28mself\u001b[39m\u001b[38;5;241m.\u001b[39mget_actors(br_class\u001b[38;5;241m=\u001b[39m\u001b[38;5;124m\"\u001b[39m\u001b[38;5;124msilhouette\u001b[39m\u001b[38;5;124m\"\u001b[39m))\n",
      "File \u001b[0;32m/opt/homebrew/Caskroom/miniconda/base/envs/brainr/lib/python3.10/site-packages/vedo/plotter.py:2274\u001b[0m, in \u001b[0;36mPlotter.show\u001b[0;34m(self, at, axes, resetcam, zoom, interactive, viewup, azimuth, elevation, roll, camera, interactorStyle, mode, rate, bg, bg2, size, title, q, *actors)\u001b[0m\n\u001b[1;32m   2272\u001b[0m \u001b[38;5;28;01mif\u001b[39;00m \u001b[38;5;28mself\u001b[39m\u001b[38;5;241m.\u001b[39maxes \u001b[38;5;129;01mis\u001b[39;00m \u001b[38;5;129;01mnot\u001b[39;00m \u001b[38;5;28;01mNone\u001b[39;00m:\n\u001b[1;32m   2273\u001b[0m     \u001b[38;5;28;01mif\u001b[39;00m viewup \u001b[38;5;241m!=\u001b[39m \u001b[38;5;124m\"\u001b[39m\u001b[38;5;124m2d\u001b[39m\u001b[38;5;124m\"\u001b[39m \u001b[38;5;129;01mor\u001b[39;00m \u001b[38;5;28mself\u001b[39m\u001b[38;5;241m.\u001b[39maxes \u001b[38;5;129;01min\u001b[39;00m [\u001b[38;5;241m1\u001b[39m, \u001b[38;5;241m8\u001b[39m] \u001b[38;5;129;01mor\u001b[39;00m \u001b[38;5;28misinstance\u001b[39m(\u001b[38;5;28mself\u001b[39m\u001b[38;5;241m.\u001b[39maxes, \u001b[38;5;28mdict\u001b[39m):\n\u001b[0;32m-> 2274\u001b[0m         \u001b[43maddons\u001b[49m\u001b[38;5;241;43m.\u001b[39;49m\u001b[43maddGlobalAxes\u001b[49m\u001b[43m(\u001b[49m\u001b[38;5;28;43mself\u001b[39;49m\u001b[38;5;241;43m.\u001b[39;49m\u001b[43maxes\u001b[49m\u001b[43m)\u001b[49m\n\u001b[1;32m   2276\u001b[0m \u001b[38;5;66;03m# panel #################################################################\u001b[39;00m\n\u001b[1;32m   2277\u001b[0m \u001b[38;5;28;01mif\u001b[39;00m settings\u001b[38;5;241m.\u001b[39mnotebookBackend \u001b[38;5;129;01min\u001b[39;00m [\u001b[38;5;124m\"\u001b[39m\u001b[38;5;124mpanel\u001b[39m\u001b[38;5;124m\"\u001b[39m,\u001b[38;5;124m\"\u001b[39m\u001b[38;5;124mipyvtk\u001b[39m\u001b[38;5;124m\"\u001b[39m]:\n",
      "File \u001b[0;32m/opt/homebrew/Caskroom/miniconda/base/envs/brainr/lib/python3.10/site-packages/vedo/addons.py:2773\u001b[0m, in \u001b[0;36maddGlobalAxes\u001b[0;34m(axtype, c)\u001b[0m\n\u001b[1;32m   2771\u001b[0m \u001b[38;5;28;01mif\u001b[39;00m \u001b[38;5;28misinstance\u001b[39m(plt\u001b[38;5;241m.\u001b[39maxes, \u001b[38;5;28mdict\u001b[39m):\n\u001b[1;32m   2772\u001b[0m     plt\u001b[38;5;241m.\u001b[39maxes\u001b[38;5;241m.\u001b[39mupdate({\u001b[38;5;124m'\u001b[39m\u001b[38;5;124museGlobal\u001b[39m\u001b[38;5;124m'\u001b[39m:\u001b[38;5;28;01mTrue\u001b[39;00m})\n\u001b[0;32m-> 2773\u001b[0m     asse \u001b[38;5;241m=\u001b[39m \u001b[43mAxes\u001b[49m\u001b[43m(\u001b[49m\u001b[38;5;28;43;01mNone\u001b[39;49;00m\u001b[43m,\u001b[49m\u001b[43m \u001b[49m\u001b[38;5;241;43m*\u001b[39;49m\u001b[38;5;241;43m*\u001b[39;49m\u001b[43mplt\u001b[49m\u001b[38;5;241;43m.\u001b[39;49m\u001b[43maxes\u001b[49m\u001b[43m)\u001b[49m\n\u001b[1;32m   2774\u001b[0m \u001b[38;5;28;01melse\u001b[39;00m:\n\u001b[1;32m   2775\u001b[0m     asse \u001b[38;5;241m=\u001b[39m Axes(\u001b[38;5;28;01mNone\u001b[39;00m, useGlobal\u001b[38;5;241m=\u001b[39m\u001b[38;5;28;01mTrue\u001b[39;00m)\n",
      "File \u001b[0;32m/opt/homebrew/Caskroom/miniconda/base/envs/brainr/lib/python3.10/site-packages/vedo/addons.py:2179\u001b[0m, in \u001b[0;36mAxes\u001b[0;34m(obj, xtitle, ytitle, ztitle, xrange, yrange, zrange, c, numberOfDivisions, digits, limitRatio, axesLineWidth, gridLineWidth, htitle, hTitleSize, hTitleFont, hTitleItalic, hTitleColor, hTitleJustify, hTitleRotation, hTitleOffset, titleDepth, titleFont, textScale, xTitlePosition, yTitlePosition, zTitlePosition, xTitleOffset, yTitleOffset, zTitleOffset, xTitleJustify, yTitleJustify, zTitleJustify, xTitleRotation, yTitleRotation, zTitleRotation, xTitleBox, yTitleBox, xTitleSize, yTitleSize, zTitleSize, xTitleColor, yTitleColor, zTitleColor, xTitleBackfaceColor, yTitleBackfaceColor, zTitleBackfaceColor, xTitleItalic, yTitleItalic, zTitleItalic, xyGrid, yzGrid, zxGrid, xyGrid2, yzGrid2, zxGrid2, xyGridTransparent, yzGridTransparent, zxGridTransparent, xyGrid2Transparent, yzGrid2Transparent, zxGrid2Transparent, xyPlaneColor, yzPlaneColor, zxPlaneColor, xyGridColor, yzGridColor, zxGridColor, xyAlpha, yzAlpha, zxAlpha, xyFrameLine, yzFrameLine, zxFrameLine, xyFrameColor, yzFrameColor, zxFrameColor, xLineColor, yLineColor, zLineColor, xHighlightZero, yHighlightZero, zHighlightZero, xHighlightZeroColor, yHighlightZeroColor, zHighlightZeroColor, showTicks, xTickLength, yTickLength, zTickLength, xTickThickness, yTickThickness, zTickThickness, xMinorTicks, yMinorTicks, zMinorTicks, tipSize, labelFont, xLabelColor, yLabelColor, zLabelColor, xLabelSize, yLabelSize, zLabelSize, xLabelOffset, yLabelOffset, zLabelOffset, xLabelJustify, yLabelJustify, zLabelJustify, xLabelRotation, yLabelRotation, zLabelRotation, xAxisRotation, yAxisRotation, zAxisRotation, xValuesAndLabels, yValuesAndLabels, zValuesAndLabels, xyShift, yzShift, zxShift, xShiftAlongY, xShiftAlongZ, yShiftAlongX, yShiftAlongZ, zShiftAlongX, zShiftAlongY, xUseBounds, yUseBounds, zUseBounds, xInverted, yInverted, zInverted, useGlobal, tol)\u001b[0m\n\u001b[1;32m   2177\u001b[0m     v1 \u001b[38;5;241m=\u001b[39m (xticks_float[i]\u001b[38;5;241m-\u001b[39mtickThickness, \u001b[38;5;241m-\u001b[39mtickLength, \u001b[38;5;241m0\u001b[39m)\n\u001b[1;32m   2178\u001b[0m     v2 \u001b[38;5;241m=\u001b[39m (xticks_float[i]\u001b[38;5;241m+\u001b[39mtickThickness,  tickLength, \u001b[38;5;241m0\u001b[39m)\n\u001b[0;32m-> 2179\u001b[0m     xticks\u001b[38;5;241m.\u001b[39mappend(\u001b[43mshapes\u001b[49m\u001b[38;5;241;43m.\u001b[39;49m\u001b[43mRectangle\u001b[49m\u001b[43m(\u001b[49m\u001b[43mv1\u001b[49m\u001b[43m,\u001b[49m\u001b[43m \u001b[49m\u001b[43mv2\u001b[49m\u001b[43m)\u001b[49m)\n\u001b[1;32m   2180\u001b[0m \u001b[38;5;28;01mif\u001b[39;00m \u001b[38;5;28mlen\u001b[39m(xticks)\u001b[38;5;241m>\u001b[39m\u001b[38;5;241m1\u001b[39m:\n\u001b[1;32m   2181\u001b[0m     xmajticks \u001b[38;5;241m=\u001b[39m merge(xticks)\u001b[38;5;241m.\u001b[39mc(xLabelColor)\n",
      "File \u001b[0;32m/opt/homebrew/Caskroom/miniconda/base/envs/brainr/lib/python3.10/site-packages/vedo/shapes.py:2305\u001b[0m, in \u001b[0;36mRectangle\u001b[0;34m(p1, p2, c, alpha)\u001b[0m\n\u001b[1;32m   2303\u001b[0m pts \u001b[38;5;241m=\u001b[39m ([\u001b[38;5;241m0\u001b[39m,\u001b[38;5;241m0\u001b[39m,\u001b[38;5;241m0\u001b[39m], p1r\u001b[38;5;241m-\u001b[39mp1 , p2\u001b[38;5;241m-\u001b[39mp1, p2l\u001b[38;5;241m-\u001b[39mp1)\n\u001b[1;32m   2304\u001b[0m faces \u001b[38;5;241m=\u001b[39m [(\u001b[38;5;241m0\u001b[39m,\u001b[38;5;241m1\u001b[39m,\u001b[38;5;241m2\u001b[39m,\u001b[38;5;241m3\u001b[39m)]\n\u001b[0;32m-> 2305\u001b[0m mesh \u001b[38;5;241m=\u001b[39m \u001b[43mMesh\u001b[49m\u001b[43m(\u001b[49m\u001b[43m[\u001b[49m\u001b[43mpts\u001b[49m\u001b[43m,\u001b[49m\u001b[43m \u001b[49m\u001b[43mfaces\u001b[49m\u001b[43m]\u001b[49m\u001b[43m,\u001b[49m\u001b[43m \u001b[49m\u001b[43mc\u001b[49m\u001b[43m,\u001b[49m\u001b[43m \u001b[49m\u001b[43malpha\u001b[49m\u001b[43m)\u001b[49m\n\u001b[1;32m   2306\u001b[0m mesh\u001b[38;5;241m.\u001b[39mSetPosition(p1)\n\u001b[1;32m   2307\u001b[0m mesh\u001b[38;5;241m.\u001b[39mname \u001b[38;5;241m=\u001b[39m \u001b[38;5;124m\"\u001b[39m\u001b[38;5;124mRectangle\u001b[39m\u001b[38;5;124m\"\u001b[39m\n",
      "File \u001b[0;32m/opt/homebrew/Caskroom/miniconda/base/envs/brainr/lib/python3.10/site-packages/vedo/mesh.py:162\u001b[0m, in \u001b[0;36mMesh.__init__\u001b[0;34m(self, inputobj, c, alpha, computeNormals)\u001b[0m\n\u001b[1;32m    160\u001b[0m     \u001b[38;5;28mself\u001b[39m\u001b[38;5;241m.\u001b[39m_data \u001b[38;5;241m=\u001b[39m vtk\u001b[38;5;241m.\u001b[39mvtkPolyData()\n\u001b[1;32m    161\u001b[0m \u001b[38;5;28;01melif\u001b[39;00m ninp \u001b[38;5;241m==\u001b[39m \u001b[38;5;241m2\u001b[39m:  \u001b[38;5;66;03m# assume [vertices, faces]\u001b[39;00m\n\u001b[0;32m--> 162\u001b[0m     \u001b[38;5;28mself\u001b[39m\u001b[38;5;241m.\u001b[39m_data \u001b[38;5;241m=\u001b[39m \u001b[43mbuildPolyData\u001b[49m\u001b[43m(\u001b[49m\u001b[43minputobj\u001b[49m\u001b[43m[\u001b[49m\u001b[38;5;241;43m0\u001b[39;49m\u001b[43m]\u001b[49m\u001b[43m,\u001b[49m\u001b[43m \u001b[49m\u001b[43minputobj\u001b[49m\u001b[43m[\u001b[49m\u001b[38;5;241;43m1\u001b[39;49m\u001b[43m]\u001b[49m\u001b[43m)\u001b[49m\n\u001b[1;32m    163\u001b[0m \u001b[38;5;28;01melse\u001b[39;00m:            \u001b[38;5;66;03m# assume [vertices] or vertices\u001b[39;00m\n\u001b[1;32m    164\u001b[0m     \u001b[38;5;28mself\u001b[39m\u001b[38;5;241m.\u001b[39m_data \u001b[38;5;241m=\u001b[39m buildPolyData(inputobj, \u001b[38;5;28;01mNone\u001b[39;00m)\n",
      "File \u001b[0;32m/opt/homebrew/Caskroom/miniconda/base/envs/brainr/lib/python3.10/site-packages/vedo/utils.py:338\u001b[0m, in \u001b[0;36mbuildPolyData\u001b[0;34m(vertices, faces, lines, indexOffset, fast, tetras)\u001b[0m\n\u001b[1;32m    336\u001b[0m sourcePoints \u001b[38;5;241m=\u001b[39m vtk\u001b[38;5;241m.\u001b[39mvtkPoints()\n\u001b[1;32m    337\u001b[0m \u001b[38;5;66;03m# sourcePoints.SetData(numpy_to_vtk(np.ascontiguousarray(vertices), deep=True))\u001b[39;00m\n\u001b[0;32m--> 338\u001b[0m sourcePoints\u001b[38;5;241m.\u001b[39mSetData(numpy2vtk(vertices, dtype\u001b[38;5;241m=\u001b[39m\u001b[43mnp\u001b[49m\u001b[38;5;241;43m.\u001b[39;49m\u001b[43mfloat\u001b[49m))\n\u001b[1;32m    339\u001b[0m poly\u001b[38;5;241m.\u001b[39mSetPoints(sourcePoints)\n\u001b[1;32m    341\u001b[0m \u001b[38;5;28;01mif\u001b[39;00m lines \u001b[38;5;129;01mis\u001b[39;00m \u001b[38;5;129;01mnot\u001b[39;00m \u001b[38;5;28;01mNone\u001b[39;00m:\n\u001b[1;32m    342\u001b[0m     \u001b[38;5;66;03m# Create a cell array to store the lines in and add the lines to it\u001b[39;00m\n",
      "File \u001b[0;32m/opt/homebrew/Caskroom/miniconda/base/envs/brainr/lib/python3.10/site-packages/numpy/__init__.py:313\u001b[0m, in \u001b[0;36m__getattr__\u001b[0;34m(attr)\u001b[0m\n\u001b[1;32m    308\u001b[0m     warnings\u001b[38;5;241m.\u001b[39mwarn(\n\u001b[1;32m    309\u001b[0m         \u001b[38;5;124mf\u001b[39m\u001b[38;5;124m\"\u001b[39m\u001b[38;5;124mIn the future `np.\u001b[39m\u001b[38;5;132;01m{\u001b[39;00mattr\u001b[38;5;132;01m}\u001b[39;00m\u001b[38;5;124m` will be defined as the \u001b[39m\u001b[38;5;124m\"\u001b[39m\n\u001b[1;32m    310\u001b[0m         \u001b[38;5;124m\"\u001b[39m\u001b[38;5;124mcorresponding NumPy scalar.\u001b[39m\u001b[38;5;124m\"\u001b[39m, \u001b[38;5;167;01mFutureWarning\u001b[39;00m, stacklevel\u001b[38;5;241m=\u001b[39m\u001b[38;5;241m2\u001b[39m)\n\u001b[1;32m    312\u001b[0m \u001b[38;5;28;01mif\u001b[39;00m attr \u001b[38;5;129;01min\u001b[39;00m __former_attrs__:\n\u001b[0;32m--> 313\u001b[0m     \u001b[38;5;28;01mraise\u001b[39;00m \u001b[38;5;167;01mAttributeError\u001b[39;00m(__former_attrs__[attr])\n\u001b[1;32m    315\u001b[0m \u001b[38;5;28;01mif\u001b[39;00m attr \u001b[38;5;241m==\u001b[39m \u001b[38;5;124m'\u001b[39m\u001b[38;5;124mtesting\u001b[39m\u001b[38;5;124m'\u001b[39m:\n\u001b[1;32m    316\u001b[0m     \u001b[38;5;28;01mimport\u001b[39;00m \u001b[38;5;21;01mnumpy\u001b[39;00m\u001b[38;5;21;01m.\u001b[39;00m\u001b[38;5;21;01mtesting\u001b[39;00m \u001b[38;5;28;01mas\u001b[39;00m \u001b[38;5;21;01mtesting\u001b[39;00m\n",
      "\u001b[0;31mAttributeError\u001b[0m: module 'numpy' has no attribute 'float'.\n`np.float` was a deprecated alias for the builtin `float`. To avoid this error in existing code, use `float` by itself. Doing this will not modify any behavior and is safe. If you specifically wanted the numpy scalar type, use `np.float64` here.\nThe aliases was originally deprecated in NumPy 1.20; for more details and guidance see the original release note at:\n    https://numpy.org/devdocs/release/1.20.0-notes.html#deprecations"
     ]
    }
   ],
   "source": [
    "scene.render()\n"
   ]
  },
  {
   "cell_type": "code",
   "execution_count": null,
   "id": "9d3f808d",
   "metadata": {},
   "outputs": [],
   "source": []
  }
 ],
 "metadata": {
  "kernelspec": {
   "display_name": "Python 3 (ipykernel)",
   "language": "python",
   "name": "python3"
  },
  "language_info": {
   "codemirror_mode": {
    "name": "ipython",
    "version": 3
   },
   "file_extension": ".py",
   "mimetype": "text/x-python",
   "name": "python",
   "nbconvert_exporter": "python",
   "pygments_lexer": "ipython3",
   "version": "3.10.12"
  }
 },
 "nbformat": 4,
 "nbformat_minor": 5
}
